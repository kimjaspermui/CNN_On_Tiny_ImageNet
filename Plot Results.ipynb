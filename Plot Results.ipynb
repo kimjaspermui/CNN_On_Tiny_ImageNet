{
 "cells": [
  {
   "cell_type": "code",
   "execution_count": 1,
   "metadata": {
    "collapsed": true
   },
   "outputs": [],
   "source": [
    "import matplotlib.pyplot as plt\n",
    "%matplotlib inline"
   ]
  },
  {
   "cell_type": "code",
   "execution_count": 2,
   "metadata": {},
   "outputs": [],
   "source": [
    "def getAcc_Loss(path, epoch):\n",
    "    file = open(path, \"r\")\n",
    "    \n",
    "    # this will store the train and validation accuracy and loss\n",
    "    train_acc = []\n",
    "    train_loss = []\n",
    "    val_acc = []\n",
    "    val_loss = []\n",
    "    \n",
    "    # get the result for plotting\n",
    "    for i, line in enumerate(file):\n",
    "        if i < 2:\n",
    "            continue\n",
    "        elif i < 2 + epoch:\n",
    "            result = [float(r) for r in line.split(\"$\")]\n",
    "            train_acc.append(result[0])\n",
    "            train_loss.append(result[1])\n",
    "        elif i == 2 + epoch:\n",
    "            continue\n",
    "        elif i == epoch * 2 + 3:\n",
    "            continue\n",
    "        else:\n",
    "            result = [float(r) for r in line.split(\"$\")]\n",
    "            val_acc.append(result[0])\n",
    "            val_loss.append(result[1])\n",
    "    \n",
    "    file.close()\n",
    "    \n",
    "    return (train_acc, train_loss, val_acc, val_loss)"
   ]
  },
  {
   "cell_type": "code",
   "execution_count": null,
   "metadata": {},
   "outputs": [],
   "source": [
    "# plot for VGG-like\n",
    "epoch = 100\n",
    "yAxis = range(1, epoch+1)\n",
    "\n",
    "# get the results\n",
    "adadeltaResult = getAcc_Loss(\"./Results/VGG-like Adadelta.txt\",  epoch)\n",
    "adamResult = getAcc_Loss(\"./Results/VGG-like Adam.txt\",  epoch)\n",
    "adagradResult = getAcc_Loss(\"./Results/VGG-like Adagrad.txt\",  epoch)\n",
    "RMSpropResult = getAcc_Loss(\"./Results/VGG-like RMSprop.txt\",  epoch)\n",
    "adamaxResult = getAcc_Loss(\"./Results/VGG-like Adamax.txt\",  epoch)\n",
    "sgdResult = getAcc_Loss(\"./Results/VGG-like SGD.txt\",  epoch)\n",
    "\n",
    "# plot train accuracy vs epoch\n",
    "\n",
    "for i in range(4):\n",
    "    plt.plot(yAxis, adadeltaResult[i], label = 'Adadelta')\n",
    "    plt.plot(yAxis, adamResult[i], label = 'Adam')\n",
    "    plt.plot(yAxis, adagradResult[i], label = 'Adagrad')\n",
    "    plt.plot(yAxis, RMSpropResult[i], label = 'RMSprop')\n",
    "    plt.plot(yAxis, adamaxResult[i], label = 'Adamax')\n",
    "    plt.plot(yAxis, sgdResult[i], label = 'SGD')\n",
    "\n",
    "    yAxisLabel = {\n",
    "        0: \"Train Accuracy\",\n",
    "        1: \"Train Loss\",\n",
    "        2: \"Validation Accuracy\",\n",
    "        3: \"Validation Loss\"\n",
    "    }\n",
    "    \n",
    "    plt.xlabel('Epoch')\n",
    "    myTitle = yAxisLabel[i]\n",
    "    plt.ylabel(myTitle)\n",
    "    plt.title(\"%s vs Epoch\" % (myTitle))\n",
    "    plt.legend(loc='best')\n",
    "    plt.savefig(\"./Plots/%s vs Epoch.png\" % (myTitle))\n",
    "    plt.show()"
   ]
  },
  {
   "cell_type": "code",
   "execution_count": null,
   "metadata": {
    "collapsed": true
   },
   "outputs": [],
   "source": []
  }
 ],
 "metadata": {
  "kernelspec": {
   "display_name": "Python 3",
   "language": "python",
   "name": "python3"
  },
  "language_info": {
   "codemirror_mode": {
    "name": "ipython",
    "version": 3
   },
   "file_extension": ".py",
   "mimetype": "text/x-python",
   "name": "python",
   "nbconvert_exporter": "python",
   "pygments_lexer": "ipython3",
   "version": "3.6.2"
  }
 },
 "nbformat": 4,
 "nbformat_minor": 2
}
