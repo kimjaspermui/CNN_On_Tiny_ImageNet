{
 "cells": [
  {
   "cell_type": "code",
   "execution_count": null,
   "metadata": {
    "collapsed": true
   },
   "outputs": [],
   "source": [
    "import numpy as np\n",
    "from PIL import Image\n",
    "import copy"
   ]
  },
  {
   "cell_type": "code",
   "execution_count": null,
   "metadata": {
    "collapsed": true
   },
   "outputs": [],
   "source": [
    "# constants\n",
    "CLASS = 200\n",
    "SAMPLES_PER_CLASS = 500\n",
    "TOTAL_SAMPLES = CLASS * SAMPLES_PER_CLASS\n",
    "COLOR_CHANNELS = 3\n",
    "IMAGE_WIDTH = 64\n",
    "IMAGE_HEIGHT = 64\n",
    "VAL_SAMPLES = 10000"
   ]
  },
  {
   "cell_type": "code",
   "execution_count": null,
   "metadata": {},
   "outputs": [],
   "source": [
    "# read all of the word net id\n",
    "wnids = [id.strip('\\n') for id in open('/Users/kimjaspermui/Desktop/data/tiny-imagenet-200/wnids.txt').readlines()]\n",
    "\n",
    "# data will store all of the data\n",
    "data = {}\n",
    "\n",
    "# train data\n",
    "data['train'] = {}\n",
    "data['train']['data'] = np.ndarray(shape=(TOTAL_SAMPLES, COLOR_CHANNELS * IMAGE_WIDTH * IMAGE_HEIGHT ), dtype=np.uint8)\n",
    "data['train']['target'] = np.ndarray(shape=(TOTAL_SAMPLES,), dtype=np.uint8)\n",
    "\n",
    "# validation data\n",
    "data['val'] = {}\n",
    "data['val']['data'] = np.ndarray(shape=(VAL_SAMPLES, COLOR_CHANNELS * IMAGE_WIDTH * IMAGE_HEIGHT), dtype=np.uint8)\n",
    "data['val']['target'] = np.ndarray(shape=(VAL_SAMPLES,), dtype=np.uint8)\n",
    "\n",
    "# iterate through work net ids\n",
    "print(\"storing training:\")\n",
    "for i in range(len(wnids)):\n",
    "    wnid = wnids[i]\n",
    "    print(\"%s: %d / %d\" % (wnid, i + 1, len(wnids)))\n",
    "    for j in range(500):\n",
    "        temp = []\n",
    "        path = \"/Users/kimjaspermui/Desktop/data/tiny-imagenet-200/train/{0}/images/{0}_{1}.JPEG\".format(wnid, j)\n",
    "        test = np.array(Image.open(path).convert('RGB')).transpose(2,0,1)\n",
    "        for k in range(len(test)):\n",
    "            temp.append(test[k].flatten())\n",
    "        data['train']['data'][i * SAMPLES_PER_CLASS + j] = np.array(temp).flatten()\n",
    "        data['train']['target'][i * SAMPLES_PER_CLASS + j] = i\n",
    "\n",
    "# get the validation data\n",
    "print(\"storing validation:\")\n",
    "for i, line in enumerate(map(lambda s: s.strip(), open('/Users/kimjaspermui/Desktop/data/tiny-imagenet-200/val/val_annotations.txt'))):\n",
    "    name, wnid = line.split('\\t')[0:2]\n",
    "    temp = []\n",
    "    path = \"/Users/kimjaspermui/Desktop/data/tiny-imagenet-200/val/images/{0}\".format(name)\n",
    "    test = np.array(Image.open(path).convert('RGB')).transpose(2,0,1)\n",
    "    for k in range(len(test)):\n",
    "        temp.append(test[k].flatten())\n",
    "    data['val']['data'][i] = np.array(temp).flatten()\n",
    "    data['val']['target'][i] = wnids.index(wnid)"
   ]
  },
  {
   "cell_type": "code",
   "execution_count": null,
   "metadata": {
    "collapsed": true
   },
   "outputs": [],
   "source": [
    "import cPickle\n",
    "import gzip\n",
    "\n",
    "def save_zipped_pickle(obj, filename, protocol=-1):\n",
    "    with gzip.open(filename, 'wb') as f:\n",
    "        cPickle.dump(obj, f, protocol)\n",
    "        \n",
    "def load_zipped_pickle(filename):\n",
    "    with gzip.open(filename, 'rb') as f:\n",
    "        loaded_object = cPickle.load(f)\n",
    "        return loaded_object"
   ]
  },
  {
   "cell_type": "code",
   "execution_count": null,
   "metadata": {},
   "outputs": [],
   "source": [
    "print(\"storing to file...\")\n",
    "save_zipped_pickle(data, \"tinyImageData\")"
   ]
  },
  {
   "cell_type": "code",
   "execution_count": null,
   "metadata": {
    "collapsed": true
   },
   "outputs": [],
   "source": [
    "print(\"getting the data from file...\")\n",
    "tempData = load_zipped_pickle(\"tinyImageData\")"
   ]
  }
 ],
 "metadata": {
  "kernelspec": {
   "display_name": "Python 3",
   "language": "python",
   "name": "python3"
  },
  "language_info": {
   "codemirror_mode": {
    "name": "ipython",
    "version": 3
   },
   "file_extension": ".py",
   "mimetype": "text/x-python",
   "name": "python",
   "nbconvert_exporter": "python",
   "pygments_lexer": "ipython3",
   "version": "3.6.2"
  }
 },
 "nbformat": 4,
 "nbformat_minor": 2
}
